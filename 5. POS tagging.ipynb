{
 "cells": [
  {
   "cell_type": "markdown",
   "metadata": {},
   "source": [
    "## What is POS tagging:\n",
    "Parts of Speech (POS) tagging is the process of assigning each word in a text a grammatical category such as nouns, verbs, adjectives or preposition.<br><br>\n",
    "Just to make it simple, consider POS tagging techniques or models as a black box where you input a sentence and get the same sentence with POS tags with it for each word.<br><br>\n",
    "For example, consider the following sentence:<br><br>\n",
    "\"A quick brown fox jumps over a lazy dog\"<br><br>\n",
    "This is the same sentence with POS tags:<br><br>\n",
    "A: DT (Determiner)<br>\n",
    "quick: JJ (Adjective)<br>\n",
    "brown: JJ (Adjective)<br>\n",
    "fox: NN (Noun)<br>\n",
    "jumps: VB (Verb)<br>\n",
    "over: IN (Preposition)<br>\n",
    "a: DT (Determiner)<br>\n",
    "lazy: JJ (Adjective)<br>\n",
    "dog: NN (Noun)<br>"
   ]
  },
  {
   "cell_type": "markdown",
   "metadata": {},
   "source": [
    "### POS tagging with NLTK:\n",
    "The following code implements a function that takes in a sentence and returns POS tags for every word."
   ]
  },
  {
   "cell_type": "code",
   "execution_count": 1,
   "metadata": {},
   "outputs": [
    {
     "data": {
      "text/plain": [
       "[('Cooking', 'NN'), ('is', 'VBZ'), ('delightful', 'JJ')]"
      ]
     },
     "execution_count": 1,
     "metadata": {},
     "output_type": "execute_result"
    }
   ],
   "source": [
    "import nltk\n",
    "from nltk.tokenize import word_tokenize\n",
    "\n",
    "def pos_tagger(sentence):\n",
    "  words = word_tokenize(sentence)\n",
    "  \n",
    "  return nltk.pos_tag(words)\n",
    "\n",
    "sentence = \"Cooking is delightful\"\n",
    "pos_tagger(sentence)"
   ]
  },
  {
   "cell_type": "markdown",
   "metadata": {},
   "source": [
    "All the magic is done by pos_tag() function under the hood.<br><br>\n",
    "It uses a PerceptronTagger by default for POS tagging. This falls under the category of stochastic POS tagging.<br><br>\n",
    "It's trained on a large corpus of pre-tagged text data. <br><br>\n",
    "During inference, it considers features of the word and its context to predict the most likely part of speech tag.<br><br>"
   ]
  },
  {
   "cell_type": "markdown",
   "metadata": {},
   "source": [
    "### POS Tagging with Spacy:\n",
    "The following code implements a function that takes in a sentence and returns the sentence with POS tags."
   ]
  },
  {
   "cell_type": "code",
   "execution_count": 2,
   "metadata": {},
   "outputs": [
    {
     "data": {
      "text/plain": [
       "[('Cooking', 'NOUN'), ('is', 'AUX'), ('delightful', 'ADJ')]"
      ]
     },
     "execution_count": 2,
     "metadata": {},
     "output_type": "execute_result"
    }
   ],
   "source": [
    "import spacy\n",
    "\n",
    "def pos_tagger(sentence):\n",
    "  nlp = spacy.load(\"en_core_web_sm\")\n",
    "  doc = nlp(sentence)\n",
    "  \n",
    "  return [(token.text, token.pos_) for token in doc]\n",
    "\n",
    "sentence = \"Cooking is delightful\"\n",
    "pos_tagger(sentence)"
   ]
  },
  {
   "cell_type": "markdown",
   "metadata": {},
   "source": [
    "We first import spaCy and load the English language model \"en_core_web_sm\".<br><br>\n",
    "We process the sentence using spaCy's nlp pipeline, which tokenizes the sentence and assigns POS tags to each token and then returns the sentence with pos tags in the above format."
   ]
  },
  {
   "cell_type": "markdown",
   "metadata": {},
   "source": []
  }
 ],
 "metadata": {
  "kernelspec": {
   "display_name": "demo",
   "language": "python",
   "name": "python3"
  },
  "language_info": {
   "codemirror_mode": {
    "name": "ipython",
    "version": 3
   },
   "file_extension": ".py",
   "mimetype": "text/x-python",
   "name": "python",
   "nbconvert_exporter": "python",
   "pygments_lexer": "ipython3",
   "version": "3.8.18"
  }
 },
 "nbformat": 4,
 "nbformat_minor": 2
}
